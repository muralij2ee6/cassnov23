{
 "cells": [
  {
   "cell_type": "code",
   "execution_count": null,
   "id": "incredible-backup",
   "metadata": {},
   "outputs": [],
   "source": [
    "import ipywidgets\n",
    "import matplotlib.pyplot as plt\n",
    "import pandas as pd"
   ]
  },
  {
   "cell_type": "code",
   "execution_count": null,
   "id": "proud-accreditation",
   "metadata": {},
   "outputs": [],
   "source": [
    "df = pd.read_csv(\"res.csv\")\n",
    "last_epoch = df[\"epoch\"].max()"
   ]
  },
  {
   "cell_type": "code",
   "execution_count": null,
   "id": "canadian-nightlife",
   "metadata": {},
   "outputs": [],
   "source": [
    "@ipywidgets.interact\n",
    "def f(epoch=ipywidgets.IntSlider(min=0, max=last_epoch , continuous_update=False)):\n",
    "    fig, ax = plt.subplots(1, 1, figsize=(12, 8))\n",
    "    ax.set_xlim([-2, 2])\n",
    "    ax.set_ylim([-2, 2])\n",
    "    df_iter = df[df[\"epoch\"] == epoch]\n",
    "    df_iter.plot(kind='scatter', x='dim_0',y='dim_1', ax=ax, c=\"red\")\n",
    "    df_iter[['dim_0','dim_1','character']].apply(lambda row:\n",
    "                                                 ax.text(row[\"dim_0\"] + 0.02,\n",
    "                                                         row[\"dim_1\"] + 0.01,\n",
    "                                                         row[\"character\"],\n",
    "                                                         fontsize=18),\n",
    "                                                 axis=1)\n"
   ]
  },
  {
   "cell_type": "code",
   "execution_count": null,
   "id": "early-vinyl",
   "metadata": {},
   "outputs": [],
   "source": []
  }
 ],
 "metadata": {
  "kernelspec": {
   "display_name": "Python 3",
   "language": "python",
   "name": "python3"
  },
  "language_info": {
   "codemirror_mode": {
    "name": "ipython",
    "version": 3
   },
   "file_extension": ".py",
   "mimetype": "text/x-python",
   "name": "python",
   "nbconvert_exporter": "python",
   "pygments_lexer": "ipython3",
   "version": "3.8.5"
  }
 },
 "nbformat": 4,
 "nbformat_minor": 5
}
